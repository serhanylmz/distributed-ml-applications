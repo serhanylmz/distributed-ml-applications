{
  "nbformat": 4,
  "nbformat_minor": 0,
  "metadata": {
    "colab": {
      "provenance": [],
      "machine_shape": "hm",
      "gpuType": "V100"
    },
    "kernelspec": {
      "name": "python3",
      "display_name": "Python 3"
    },
    "language_info": {
      "name": "python"
    },
    "accelerator": "GPU"
  },
  "cells": [
    {
      "cell_type": "markdown",
      "source": [
        "#Distributed ML Algorithms #1 - MNIST\n",
        "###Here is a basic ML algorithm trained on the MNIST dataset with a CNN-model, trained in distributed fashion on multiple GPU(s).\n",
        "\n",
        "###The model utilizes available functions from tensorflow.\n"
      ],
      "metadata": {
        "id": "RQlXrEEiFRJy"
      }
    },
    {
      "cell_type": "code",
      "source": [
        "import tensorflow as tf\n",
        "from tensorflow.keras import datasets, layers, models"
      ],
      "metadata": {
        "id": "9vThFSNXGKpO"
      },
      "execution_count": 1,
      "outputs": []
    },
    {
      "cell_type": "markdown",
      "source": [
        "##Number of Available GPU(s)"
      ],
      "metadata": {
        "id": "ZvEIBTyFGUrJ"
      }
    },
    {
      "cell_type": "code",
      "source": [
        "print(\"Available number of GPU(s):\", len(tf.config.list_physical_devices('GPU')))"
      ],
      "metadata": {
        "colab": {
          "base_uri": "https://localhost:8080/"
        },
        "id": "u2DsYFClGULP",
        "outputId": "67e07260-e7e8-450c-a40d-09f25bc551ee"
      },
      "execution_count": 2,
      "outputs": [
        {
          "output_type": "stream",
          "name": "stdout",
          "text": [
            "Available number of GPU(s): 1\n"
          ]
        }
      ]
    },
    {
      "cell_type": "markdown",
      "source": [
        "##Loading Data from MNIST"
      ],
      "metadata": {
        "id": "iya--E7cGrGO"
      }
    },
    {
      "cell_type": "code",
      "source": [
        "(X_train, y_train), (X_test, y_test) = datasets.mnist.load_data()\n",
        "\n",
        "###Normalizing data\n",
        "\n",
        "X_train, X_test = X_train/255.0, X_test/255.0"
      ],
      "metadata": {
        "colab": {
          "base_uri": "https://localhost:8080/"
        },
        "id": "BQArdlqoGtJ9",
        "outputId": "a8a497d4-3b8b-4168-c691-78937d694090"
      },
      "execution_count": 3,
      "outputs": [
        {
          "output_type": "stream",
          "name": "stdout",
          "text": [
            "Downloading data from https://storage.googleapis.com/tensorflow/tf-keras-datasets/mnist.npz\n",
            "11490434/11490434 [==============================] - 1s 0us/step\n"
          ]
        }
      ]
    },
    {
      "cell_type": "markdown",
      "source": [
        "##Defining a CNN-Model-Creating Function"
      ],
      "metadata": {
        "id": "j8EewTbBHGbx"
      }
    },
    {
      "cell_type": "code",
      "source": [
        "def create_model():\n",
        "  model = models.Sequential()\n",
        "  model.add(layers.Reshape(input_shape = (28,28), target_shape = (28,28,1)))\n",
        "  model.add(layers.Conv2D(32, (3,3), activation = 'relu'))\n",
        "  model.add(layers.MaxPooling2D(2,2))\n",
        "  model.add(layers.Conv2D(64, (3,3), activation = 'relu'))\n",
        "  model.add(layers.MaxPooling2D(2,2))\n",
        "  model.add(layers.Conv2D(64, (3,3), activation = 'relu'))\n",
        "  model.add(layers.Flatten())\n",
        "  model.add(layers.Dense(64, activation = 'relu'))\n",
        "  model.add(layers.Dense(10))\n",
        "\n",
        "  return model"
      ],
      "metadata": {
        "id": "KdmkxQ7pHMre"
      },
      "execution_count": 4,
      "outputs": []
    },
    {
      "cell_type": "markdown",
      "source": [
        "##Distributing the Training with Tensorflow:"
      ],
      "metadata": {
        "id": "rB4EA8iRITIU"
      }
    },
    {
      "cell_type": "code",
      "source": [
        "#Mirrored Strategy Creation:\n",
        "\n",
        "strategy = tf.distribute.MirroredStrategy()\n",
        "print(\"Number of Devices:\", strategy.num_replicas_in_sync)\n",
        "\n",
        "#Now perform under the strategy scope:\n",
        "\n",
        "with strategy.scope():\n",
        "  #Everything that creates variables is defined under this section.\n",
        "  #Therefore, the model 'installation', 'compilation' and all others occur here.\n",
        "  model = create_model()\n",
        "  model.compile(loss = tf.keras.losses.SparseCategoricalCrossentropy(from_logits = True), optimizer = \"adam\", metrics = ['accuracy'])"
      ],
      "metadata": {
        "colab": {
          "base_uri": "https://localhost:8080/"
        },
        "id": "81dT-RUVIYEN",
        "outputId": "0a195231-2b08-4222-8157-dc046e94b7f4"
      },
      "execution_count": 5,
      "outputs": [
        {
          "output_type": "stream",
          "name": "stdout",
          "text": [
            "Number of Devices: 1\n"
          ]
        }
      ]
    },
    {
      "cell_type": "markdown",
      "source": [
        "##Fit the model and get the results"
      ],
      "metadata": {
        "id": "6-GlqIWAJltm"
      }
    },
    {
      "cell_type": "code",
      "source": [
        "###As the model is created within the strategy's scope, all the GPU(s) start fitting the model when the 'fit' method is called as below:\n",
        "model.fit(X_train, y_train, epochs = 5)\n",
        "\n",
        "\n",
        "###Now evaluate the model:\n",
        "test_loss, test_accuracy = model.evaluate(X_test, y_test, verbose = 2)\n",
        "\n",
        "print(\"Test Loss:\", test_loss)\n",
        "print(\"Test Accuracy:\", test_accuracy)"
      ],
      "metadata": {
        "colab": {
          "base_uri": "https://localhost:8080/"
        },
        "id": "XwsKaCIPJoMr",
        "outputId": "6cf29a8e-1761-4e94-eba9-2a61d5224e5b"
      },
      "execution_count": 6,
      "outputs": [
        {
          "output_type": "stream",
          "name": "stdout",
          "text": [
            "Epoch 1/5\n",
            "1875/1875 [==============================] - 19s 4ms/step - loss: 0.1398 - accuracy: 0.9561\n",
            "Epoch 2/5\n",
            "1875/1875 [==============================] - 9s 5ms/step - loss: 0.0443 - accuracy: 0.9865\n",
            "Epoch 3/5\n",
            "1875/1875 [==============================] - 9s 5ms/step - loss: 0.0325 - accuracy: 0.9893\n",
            "Epoch 4/5\n",
            "1875/1875 [==============================] - 9s 5ms/step - loss: 0.0260 - accuracy: 0.9914\n",
            "Epoch 5/5\n",
            "1875/1875 [==============================] - 9s 5ms/step - loss: 0.0210 - accuracy: 0.9931\n",
            "313/313 - 1s - loss: 0.0438 - accuracy: 0.9854 - 1s/epoch - 4ms/step\n",
            "Test Loss: 0.04379551485180855\n",
            "Test Accuracy: 0.9854000210762024\n"
          ]
        }
      ]
    }
  ]
}